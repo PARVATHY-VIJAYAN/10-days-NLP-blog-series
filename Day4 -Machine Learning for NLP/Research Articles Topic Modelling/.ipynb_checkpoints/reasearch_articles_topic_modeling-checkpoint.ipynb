{
 "cells": [
  {
   "cell_type": "code",
   "execution_count": 5,
   "id": "0b14ad51-4a2a-4404-a76c-c919d8a39cc3",
   "metadata": {},
   "outputs": [
    {
     "name": "stdout",
     "output_type": "stream",
     "text": [
      "\n",
      "Top 10 words for each topic:\n",
      "Topic 1: quantum, energy, spin, model, magnetic, phase, field, time, temperature, wave\n",
      "Topic 2: learning, data, model, network, networks, based, algorithm, models, neural, problem\n",
      "Topic 3: mn, doping, floquet, fese, t_c, soc, kitaev, semimetals, mos2, verma\n",
      "Topic 4: qa, nmf, hedging, opioid, password, gerrymandering, hashtags, triad, fuzzing, sequent\n",
      "Topic 5: mathbb, prove, group, mathcal, finite, groups, theorem, spaces, algebra, space\n"
     ]
    }
   ],
   "source": [
    "# Import necessary libraries\n",
    "from sklearn.decomposition import LatentDirichletAllocation\n",
    "from sklearn.feature_extraction.text import TfidfVectorizer\n",
    "import pandas as pd\n",
    "\n",
    "# Function to load research articles dataset\n",
    "def load_data():\n",
    "    df = pd.read_csv('data/research_articles.csv')\n",
    "    return df['TITLE'] + ' ' + df['ABSTRACT']\n",
    "    \n",
    "# Function to vectorize text data using TfidfVectorizer\n",
    "def vectorize_text_tfidf(text):\n",
    "    vectorizer = TfidfVectorizer(max_df=0.95, min_df=2, stop_words='english')\n",
    "    X_vec = vectorizer.fit_transform(text)\n",
    "    return X_vec, vectorizer\n",
    "    \n",
    "# Function to train a Latent Dirichlet Allocation (LDA) model\n",
    "def train_lda_model(X_vec, num_topics):\n",
    "    lda_model = LatentDirichletAllocation(n_components=num_topics, random_state=42)\n",
    "    lda_model.fit(X_vec)\n",
    "    return lda_model\n",
    "    \n",
    "# Function to display the top words for each topic\n",
    "def display_topics(model, feature_names, num_top_words):\n",
    "    topics = {}\n",
    "    for topic_idx, topic in enumerate(model.components_):\n",
    "        topics[f\"Topic {topic_idx+1}\"] = [feature_names[i] for i in topic.argsort()[:-num_top_words - 1:-1]]\n",
    "    return topics\n",
    "    \n",
    "# Main function for Topic Modeling\n",
    "def main_topic_modeling(text, num_topics=5, num_top_words=10):\n",
    "    # Step 1: Vectorize text data using TfidfVectorizer\n",
    "    X_vec, vectorizer = vectorize_text_tfidf(text)\n",
    "    # Step 2: Train a Latent Dirichlet Allocation (LDA) model\n",
    "    lda_model = train_lda_model(X_vec, num_topics)\n",
    "    # Step 3: Display the top words for each topic\n",
    "    feature_names = vectorizer.get_feature_names_out()\n",
    "    topics = display_topics(lda_model, feature_names, num_top_words)\n",
    "    # Display the topics\n",
    "    print(f\"\\nTop {num_top_words} words for each topic:\")\n",
    "    for topic, words in topics.items():\n",
    "        print(f\"{topic}: {', '.join(words)}\")\n",
    "\n",
    "if __name__ == \"__main__\":\n",
    "    text_data = load_data()\n",
    "    main_topic_modeling(text_data, num_topics=5, num_top_words=10)"
   ]
  },
  {
   "cell_type": "code",
   "execution_count": null,
   "id": "c181293f-7502-4dc0-a17a-0080998dc1c2",
   "metadata": {},
   "outputs": [],
   "source": []
  }
 ],
 "metadata": {
  "kernelspec": {
   "display_name": "Python 3",
   "language": "python",
   "name": "python3"
  },
  "language_info": {
   "codemirror_mode": {
    "name": "ipython",
    "version": 3
   },
   "file_extension": ".py",
   "mimetype": "text/x-python",
   "name": "python",
   "nbconvert_exporter": "python",
   "pygments_lexer": "ipython3",
   "version": "3.8.2"
  }
 },
 "nbformat": 4,
 "nbformat_minor": 5
}
