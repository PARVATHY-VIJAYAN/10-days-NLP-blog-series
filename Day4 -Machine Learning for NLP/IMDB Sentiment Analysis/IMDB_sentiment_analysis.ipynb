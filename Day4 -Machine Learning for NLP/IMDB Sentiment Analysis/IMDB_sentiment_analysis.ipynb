{
 "cells": [
  {
   "cell_type": "code",
   "execution_count": 2,
   "id": "8c3b6366-9f6d-4a8a-8c62-7cef569fdf8e",
   "metadata": {},
   "outputs": [],
   "source": [
    "# Import necessary libraries\n",
    "import numpy as np\n",
    "import pandas as pd\n",
    "from sklearn.model_selection import train_test_split\n",
    "from sklearn.feature_extraction.text import CountVectorizer\n",
    "from sklearn.naive_bayes import MultinomialNB\n",
    "from sklearn.metrics import accuracy_score, classification_report"
   ]
  },
  {
   "cell_type": "code",
   "execution_count": 3,
   "id": "2094ce58-bd85-433d-baf0-1b5280080da0",
   "metadata": {
    "scrolled": true
   },
   "outputs": [
    {
     "data": {
      "text/html": [
       "<div>\n",
       "<style scoped>\n",
       "    .dataframe tbody tr th:only-of-type {\n",
       "        vertical-align: middle;\n",
       "    }\n",
       "\n",
       "    .dataframe tbody tr th {\n",
       "        vertical-align: top;\n",
       "    }\n",
       "\n",
       "    .dataframe thead th {\n",
       "        text-align: right;\n",
       "    }\n",
       "</style>\n",
       "<table border=\"1\" class=\"dataframe\">\n",
       "  <thead>\n",
       "    <tr style=\"text-align: right;\">\n",
       "      <th></th>\n",
       "      <th>text</th>\n",
       "      <th>label</th>\n",
       "    </tr>\n",
       "  </thead>\n",
       "  <tbody>\n",
       "    <tr>\n",
       "      <th>0</th>\n",
       "      <td>I grew up (b. 1965) watching and loving the Th...</td>\n",
       "      <td>0</td>\n",
       "    </tr>\n",
       "    <tr>\n",
       "      <th>1</th>\n",
       "      <td>When I put this movie in my DVD player, and sa...</td>\n",
       "      <td>0</td>\n",
       "    </tr>\n",
       "    <tr>\n",
       "      <th>2</th>\n",
       "      <td>Why do people who do not know what a particula...</td>\n",
       "      <td>0</td>\n",
       "    </tr>\n",
       "    <tr>\n",
       "      <th>3</th>\n",
       "      <td>Even though I have great interest in Biblical ...</td>\n",
       "      <td>0</td>\n",
       "    </tr>\n",
       "    <tr>\n",
       "      <th>4</th>\n",
       "      <td>Im a die hard Dads Army fan and nothing will e...</td>\n",
       "      <td>1</td>\n",
       "    </tr>\n",
       "  </tbody>\n",
       "</table>\n",
       "</div>"
      ],
      "text/plain": [
       "                                                text  label\n",
       "0  I grew up (b. 1965) watching and loving the Th...      0\n",
       "1  When I put this movie in my DVD player, and sa...      0\n",
       "2  Why do people who do not know what a particula...      0\n",
       "3  Even though I have great interest in Biblical ...      0\n",
       "4  Im a die hard Dads Army fan and nothing will e...      1"
      ]
     },
     "execution_count": 3,
     "metadata": {},
     "output_type": "execute_result"
    }
   ],
   "source": [
    "df = pd.read_csv('data/movie.csv')\n",
    "df.head()"
   ]
  },
  {
   "cell_type": "code",
   "execution_count": 4,
   "id": "5504fc69-a732-4717-be0a-8cfe6edba6e0",
   "metadata": {},
   "outputs": [
    {
     "name": "stdout",
     "output_type": "stream",
     "text": [
      "Accuracy: 0.85\n",
      "Classification Report:\n",
      "               precision    recall  f1-score   support\n",
      "\n",
      "           0       0.83      0.89      0.86      3966\n",
      "           1       0.88      0.82      0.85      4034\n",
      "\n",
      "    accuracy                           0.85      8000\n",
      "   macro avg       0.85      0.85      0.85      8000\n",
      "weighted avg       0.85      0.85      0.85      8000\n",
      "\n",
      "\n",
      "Test Text Predictions: [1 0]\n"
     ]
    }
   ],
   "source": [
    "# Function to load IMDb dataset\n",
    "def load_data():\n",
    "    df = pd.read_csv('data/movie.csv')\n",
    "    return df['text'], df['label']\n",
    "\n",
    "# Function to preprocess data (split into training and testing sets)\n",
    "def preprocess_data(text, label):\n",
    "    X_train, X_test, y_train, y_test = train_test_split(text, label, test_size=0.2, random_state=42)\n",
    "    return X_train, X_test, y_train, y_test\n",
    "\n",
    "# Function to vectorize text data using CountVectorizer\n",
    "def vectorize_text(X_train, X_test):\n",
    "    vectorizer = CountVectorizer()\n",
    "    X_train_vec = vectorizer.fit_transform(X_train)\n",
    "    X_test_vec = vectorizer.transform(X_test)\n",
    "    return X_train_vec, X_test_vec, vectorizer  # Return the vectorizer as well to test random text \n",
    "\n",
    "# Function to train a Naive Bayes classifier\n",
    "def train_model(X_train_vec, y_train):\n",
    "    classifier = MultinomialNB()\n",
    "    classifier.fit(X_train_vec, y_train)\n",
    "    return classifier\n",
    "\n",
    "# Function to evaluate the trained model\n",
    "def evaluate_model(classifier, X_test_vec, y_test):\n",
    "    y_pred = classifier.predict(X_test_vec)\n",
    "    accuracy = accuracy_score(y_test, y_pred)\n",
    "    report = classification_report(y_test, y_pred)\n",
    "    return accuracy, report\n",
    "\n",
    "# Main function\n",
    "def main():\n",
    "    # Step 1: Load data\n",
    "    text, label = load_data()\n",
    "\n",
    "    # Step 2: Preprocess data\n",
    "    X_train, X_test, y_train, y_test = preprocess_data(text, label)\n",
    "\n",
    "    # Step 3: Vectorize text data\n",
    "    X_train_vec, X_test_vec, vectorizer = vectorize_text(X_train, X_test)  # Capture the vectorizer\n",
    "\n",
    "    # Step 4: Train the model\n",
    "    classifier = train_model(X_train_vec, y_train)\n",
    "\n",
    "    # Step 5: Evaluate the model\n",
    "    accuracy, report = evaluate_model(classifier, X_test_vec, y_test)\n",
    "\n",
    "    # Display results\n",
    "    print(f\"Accuracy: {accuracy:.2f}\")\n",
    "    print(\"Classification Report:\\n\", report)\n",
    "\n",
    "    # Test random text with the trained model\n",
    "    test_text = [\"This movie was fantastic!\", \"I didn't like the plot.\"]\n",
    "    test_text_vec = vectorizer.transform(test_text)\n",
    "    predictions = classifier.predict(test_text_vec)\n",
    "    print(\"\\nTest Text Predictions:\", predictions)\n",
    "\n",
    "if __name__ == \"__main__\":\n",
    "    main()"
   ]
  },
  {
   "cell_type": "code",
   "execution_count": null,
   "id": "c3f07d8d-ae7f-4308-b194-0c0cc76cc029",
   "metadata": {},
   "outputs": [],
   "source": []
  },
  {
   "cell_type": "code",
   "execution_count": null,
   "id": "35e72b50-c363-4bc1-8d22-76993d32ffe0",
   "metadata": {},
   "outputs": [],
   "source": []
  }
 ],
 "metadata": {
  "kernelspec": {
   "display_name": "Python 3",
   "language": "python",
   "name": "python3"
  },
  "language_info": {
   "codemirror_mode": {
    "name": "ipython",
    "version": 3
   },
   "file_extension": ".py",
   "mimetype": "text/x-python",
   "name": "python",
   "nbconvert_exporter": "python",
   "pygments_lexer": "ipython3",
   "version": "3.8.2"
  }
 },
 "nbformat": 4,
 "nbformat_minor": 5
}
