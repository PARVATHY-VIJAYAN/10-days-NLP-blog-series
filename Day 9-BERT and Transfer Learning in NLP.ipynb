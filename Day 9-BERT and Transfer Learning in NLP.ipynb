{
 "cells": [
  {
   "cell_type": "markdown",
   "id": "fd3a9436-87d6-4b58-94cd-dccc60d60f06",
   "metadata": {},
   "source": [
    "# Hands-On Example: Sentiment Analysis with BERT\n",
    "Below is a Python code snippet demonstrating how to fine-tune BERT for sentiment analysis. This practical example uses the Hugging Face transformers library, a popular choice for working with models like BERT."
   ]
  },
  {
   "cell_type": "code",
   "execution_count": null,
   "id": "89239560-40df-43be-8cf0-73a0857420fe",
   "metadata": {},
   "outputs": [],
   "source": [
    "from transformers import BertTokenizer, BertForSequenceClassification, Trainer, TrainingArguments\n",
    "import torch\n",
    "\n",
    "# Load a pre-trained BERT model and tokenizer\n",
    "model = BertForSequenceClassification.from_pretrained('bert-base-uncased')\n",
    "tokenizer = BertTokenizer.from_pretrained('bert-base-uncased')\n",
    "\n",
    "# Sample texts for sentiment analysis\n",
    "texts = [\"I love this product!\", \"I hate this movie.\"]\n",
    "labels = [1, 0]  # 1 for positive sentiment, 0 for negative\n",
    "# Tokenize the texts\n",
    "tokens = tokenizer(texts, padding=True, truncation=True, return_tensors=\"pt\")\n",
    "input_ids, attention_mask = tokens[\"input_ids\"], tokens[\"attention_mask\"]\n",
    "# Convert labels to tensor\n",
    "labels = torch.tensor(labels).unsqueeze(0)\n",
    "# Training arguments\n",
    "training_args = TrainingArguments(\n",
    "    output_dir='./results',\n",
    "    num_train_epochs=3,\n",
    "    per_device_train_batch_size=8,\n",
    "    warmup_steps=500,\n",
    "    weight_decay=0.01,\n",
    "    logging_dir='./logs',\n",
    ")\n",
    "# Initialize the Trainer\n",
    "trainer = Trainer(\n",
    "    model=model,\n",
    "    args=training_args,\n",
    "    train_dataset=train_dataset,\n",
    "    eval_dataset=test_dataset\n",
    ")\n",
    "# Train the model\n",
    "trainer.train()\n",
    "# Save the fine-tuned model\n",
    "model.save_pretrained(\"./sentiment_model\")"
   ]
  }
 ],
 "metadata": {
  "kernelspec": {
   "display_name": "Python 3",
   "language": "python",
   "name": "python3"
  },
  "language_info": {
   "codemirror_mode": {
    "name": "ipython",
    "version": 3
   },
   "file_extension": ".py",
   "mimetype": "text/x-python",
   "name": "python",
   "nbconvert_exporter": "python",
   "pygments_lexer": "ipython3",
   "version": "3.8.2"
  }
 },
 "nbformat": 4,
 "nbformat_minor": 5
}
